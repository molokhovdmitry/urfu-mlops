{
 "cells": [
  {
   "cell_type": "code",
   "execution_count": 1,
   "metadata": {},
   "outputs": [],
   "source": [
    "import os\n",
    "import pandas as pd\n",
    "import numpy as np\n",
    "from joblib import dump\n",
    "from sklearn.utils import shuffle\n",
    "from sklearn.linear_model import LinearRegression\n",
    "from sklearn.pipeline import Pipeline\n",
    "from sklearn.preprocessing import MinMaxScaler\n",
    "\n",
    "from test_model import df_to_X_y, score_predictions"
   ]
  },
  {
   "cell_type": "markdown",
   "metadata": {},
   "source": [
    "# Данные"
   ]
  },
  {
   "cell_type": "markdown",
   "metadata": {},
   "source": [
    "## Загрузка"
   ]
  },
  {
   "cell_type": "code",
   "execution_count": 2,
   "metadata": {},
   "outputs": [
    {
     "name": "stdout",
     "output_type": "stream",
     "text": [
      "Downloading data.\n",
      "Downloading nyc-taxi-trip-duration.zip to data/raw\n",
      " 99%|█████████████████████████████████████▋| 85.0M/85.8M [00:10<00:00, 10.5MB/s]\n",
      "100%|██████████████████████████████████████| 85.8M/85.8M [00:10<00:00, 8.89MB/s]\n",
      "Archive:  nyc-taxi-trip-duration.zip\n",
      "  inflating: sample_submission.zip   \n",
      "  inflating: test.zip                \n",
      "  inflating: train.zip               \n",
      "Archive:  test.zip\n",
      "  inflating: test.csv                \n",
      "Archive:  train.zip\n",
      "  inflating: train.csv               \n"
     ]
    }
   ],
   "source": [
    "if not os.path.exists('data/raw'):\n",
    "    print(\"Downloading data.\")\n",
    "    !kaggle competitions download -p data/raw -c nyc-taxi-trip-duration\n",
    "    !cd data/raw &&\\\n",
    "    unzip nyc-taxi-trip-duration.zip &&\\\n",
    "    unzip test.zip && unzip train.zip &&\\\n",
    "    rm nyc-taxi-trip-duration.zip sample_submission.zip test.zip train.zip\n",
    "    !mkdir data/processed models"
   ]
  },
  {
   "cell_type": "code",
   "execution_count": 3,
   "metadata": {},
   "outputs": [
    {
     "data": {
      "text/html": [
       "<div>\n",
       "<style scoped>\n",
       "    .dataframe tbody tr th:only-of-type {\n",
       "        vertical-align: middle;\n",
       "    }\n",
       "\n",
       "    .dataframe tbody tr th {\n",
       "        vertical-align: top;\n",
       "    }\n",
       "\n",
       "    .dataframe thead th {\n",
       "        text-align: right;\n",
       "    }\n",
       "</style>\n",
       "<table border=\"1\" class=\"dataframe\">\n",
       "  <thead>\n",
       "    <tr style=\"text-align: right;\">\n",
       "      <th></th>\n",
       "      <th>id</th>\n",
       "      <th>vendor_id</th>\n",
       "      <th>pickup_datetime</th>\n",
       "      <th>dropoff_datetime</th>\n",
       "      <th>passenger_count</th>\n",
       "      <th>pickup_longitude</th>\n",
       "      <th>pickup_latitude</th>\n",
       "      <th>dropoff_longitude</th>\n",
       "      <th>dropoff_latitude</th>\n",
       "      <th>store_and_fwd_flag</th>\n",
       "      <th>trip_duration</th>\n",
       "    </tr>\n",
       "  </thead>\n",
       "  <tbody>\n",
       "    <tr>\n",
       "      <th>0</th>\n",
       "      <td>id2875421</td>\n",
       "      <td>2</td>\n",
       "      <td>2016-03-14 17:24:55</td>\n",
       "      <td>2016-03-14 17:32:30</td>\n",
       "      <td>1</td>\n",
       "      <td>-73.982155</td>\n",
       "      <td>40.767937</td>\n",
       "      <td>-73.964630</td>\n",
       "      <td>40.765602</td>\n",
       "      <td>N</td>\n",
       "      <td>455</td>\n",
       "    </tr>\n",
       "    <tr>\n",
       "      <th>1</th>\n",
       "      <td>id2377394</td>\n",
       "      <td>1</td>\n",
       "      <td>2016-06-12 00:43:35</td>\n",
       "      <td>2016-06-12 00:54:38</td>\n",
       "      <td>1</td>\n",
       "      <td>-73.980415</td>\n",
       "      <td>40.738564</td>\n",
       "      <td>-73.999481</td>\n",
       "      <td>40.731152</td>\n",
       "      <td>N</td>\n",
       "      <td>663</td>\n",
       "    </tr>\n",
       "    <tr>\n",
       "      <th>2</th>\n",
       "      <td>id3858529</td>\n",
       "      <td>2</td>\n",
       "      <td>2016-01-19 11:35:24</td>\n",
       "      <td>2016-01-19 12:10:48</td>\n",
       "      <td>1</td>\n",
       "      <td>-73.979027</td>\n",
       "      <td>40.763939</td>\n",
       "      <td>-74.005333</td>\n",
       "      <td>40.710087</td>\n",
       "      <td>N</td>\n",
       "      <td>2124</td>\n",
       "    </tr>\n",
       "    <tr>\n",
       "      <th>3</th>\n",
       "      <td>id3504673</td>\n",
       "      <td>2</td>\n",
       "      <td>2016-04-06 19:32:31</td>\n",
       "      <td>2016-04-06 19:39:40</td>\n",
       "      <td>1</td>\n",
       "      <td>-74.010040</td>\n",
       "      <td>40.719971</td>\n",
       "      <td>-74.012268</td>\n",
       "      <td>40.706718</td>\n",
       "      <td>N</td>\n",
       "      <td>429</td>\n",
       "    </tr>\n",
       "    <tr>\n",
       "      <th>4</th>\n",
       "      <td>id2181028</td>\n",
       "      <td>2</td>\n",
       "      <td>2016-03-26 13:30:55</td>\n",
       "      <td>2016-03-26 13:38:10</td>\n",
       "      <td>1</td>\n",
       "      <td>-73.973053</td>\n",
       "      <td>40.793209</td>\n",
       "      <td>-73.972923</td>\n",
       "      <td>40.782520</td>\n",
       "      <td>N</td>\n",
       "      <td>435</td>\n",
       "    </tr>\n",
       "  </tbody>\n",
       "</table>\n",
       "</div>"
      ],
      "text/plain": [
       "          id  vendor_id      pickup_datetime     dropoff_datetime  \\\n",
       "0  id2875421          2  2016-03-14 17:24:55  2016-03-14 17:32:30   \n",
       "1  id2377394          1  2016-06-12 00:43:35  2016-06-12 00:54:38   \n",
       "2  id3858529          2  2016-01-19 11:35:24  2016-01-19 12:10:48   \n",
       "3  id3504673          2  2016-04-06 19:32:31  2016-04-06 19:39:40   \n",
       "4  id2181028          2  2016-03-26 13:30:55  2016-03-26 13:38:10   \n",
       "\n",
       "   passenger_count  pickup_longitude  pickup_latitude  dropoff_longitude  \\\n",
       "0                1        -73.982155        40.767937         -73.964630   \n",
       "1                1        -73.980415        40.738564         -73.999481   \n",
       "2                1        -73.979027        40.763939         -74.005333   \n",
       "3                1        -74.010040        40.719971         -74.012268   \n",
       "4                1        -73.973053        40.793209         -73.972923   \n",
       "\n",
       "   dropoff_latitude store_and_fwd_flag  trip_duration  \n",
       "0         40.765602                  N            455  \n",
       "1         40.731152                  N            663  \n",
       "2         40.710087                  N           2124  \n",
       "3         40.706718                  N            429  \n",
       "4         40.782520                  N            435  "
      ]
     },
     "execution_count": 3,
     "metadata": {},
     "output_type": "execute_result"
    }
   ],
   "source": [
    "df = pd.read_csv('data/raw/train.csv')\n",
    "df.head()"
   ]
  },
  {
   "cell_type": "code",
   "execution_count": 4,
   "metadata": {},
   "outputs": [
    {
     "name": "stdout",
     "output_type": "stream",
     "text": [
      "<class 'pandas.core.frame.DataFrame'>\n",
      "RangeIndex: 1458644 entries, 0 to 1458643\n",
      "Data columns (total 11 columns):\n",
      " #   Column              Non-Null Count    Dtype  \n",
      "---  ------              --------------    -----  \n",
      " 0   id                  1458644 non-null  object \n",
      " 1   vendor_id           1458644 non-null  int64  \n",
      " 2   pickup_datetime     1458644 non-null  object \n",
      " 3   dropoff_datetime    1458644 non-null  object \n",
      " 4   passenger_count     1458644 non-null  int64  \n",
      " 5   pickup_longitude    1458644 non-null  float64\n",
      " 6   pickup_latitude     1458644 non-null  float64\n",
      " 7   dropoff_longitude   1458644 non-null  float64\n",
      " 8   dropoff_latitude    1458644 non-null  float64\n",
      " 9   store_and_fwd_flag  1458644 non-null  object \n",
      " 10  trip_duration       1458644 non-null  int64  \n",
      "dtypes: float64(4), int64(3), object(4)\n",
      "memory usage: 122.4+ MB\n"
     ]
    }
   ],
   "source": [
    "df.info()"
   ]
  },
  {
   "cell_type": "markdown",
   "metadata": {},
   "source": [
    "## Наборы данных"
   ]
  },
  {
   "cell_type": "code",
   "execution_count": 5,
   "metadata": {},
   "outputs": [
    {
     "name": "stderr",
     "output_type": "stream",
     "text": [
      "/home/nomad/miniconda3/envs/urfu-mlops/lib/python3.9/site-packages/numpy/core/fromnumeric.py:59: FutureWarning: 'DataFrame.swapaxes' is deprecated and will be removed in a future version. Please use 'DataFrame.transpose' instead.\n",
      "  return bound(*args, **kwds)\n"
     ]
    },
    {
     "data": {
      "text/plain": [
       "((364661, 11), (364661, 11), (364661, 11), (364661, 11))"
      ]
     },
     "execution_count": 5,
     "metadata": {},
     "output_type": "execute_result"
    }
   ],
   "source": [
    "df_shuffled = shuffle(df, random_state=42)\n",
    "df1, df2, df3, df_noise = np.array_split(df_shuffled, 4)\n",
    "df1.shape, df2.shape, df3.shape, df_noise.shape"
   ]
  },
  {
   "cell_type": "markdown",
   "metadata": {},
   "source": [
    "## \"Зашумленный\" набор данных"
   ]
  },
  {
   "cell_type": "code",
   "execution_count": 6,
   "metadata": {},
   "outputs": [],
   "source": [
    "coord_cols = ['pickup_longitude', 'pickup_latitude', 'dropoff_longitude', 'dropoff_latitude']"
   ]
  },
  {
   "cell_type": "code",
   "execution_count": 7,
   "metadata": {},
   "outputs": [
    {
     "data": {
      "text/html": [
       "<div>\n",
       "<style scoped>\n",
       "    .dataframe tbody tr th:only-of-type {\n",
       "        vertical-align: middle;\n",
       "    }\n",
       "\n",
       "    .dataframe tbody tr th {\n",
       "        vertical-align: top;\n",
       "    }\n",
       "\n",
       "    .dataframe thead th {\n",
       "        text-align: right;\n",
       "    }\n",
       "</style>\n",
       "<table border=\"1\" class=\"dataframe\">\n",
       "  <thead>\n",
       "    <tr style=\"text-align: right;\">\n",
       "      <th></th>\n",
       "      <th>pickup_longitude</th>\n",
       "      <th>pickup_latitude</th>\n",
       "      <th>dropoff_longitude</th>\n",
       "      <th>dropoff_latitude</th>\n",
       "    </tr>\n",
       "  </thead>\n",
       "  <tbody>\n",
       "    <tr>\n",
       "      <th>622538</th>\n",
       "      <td>-73.987762</td>\n",
       "      <td>40.732353</td>\n",
       "      <td>-73.981674</td>\n",
       "      <td>40.690212</td>\n",
       "    </tr>\n",
       "    <tr>\n",
       "      <th>198550</th>\n",
       "      <td>-73.969460</td>\n",
       "      <td>40.757278</td>\n",
       "      <td>-73.959099</td>\n",
       "      <td>40.769081</td>\n",
       "    </tr>\n",
       "    <tr>\n",
       "      <th>631248</th>\n",
       "      <td>-73.983398</td>\n",
       "      <td>40.749378</td>\n",
       "      <td>-73.987289</td>\n",
       "      <td>40.759529</td>\n",
       "    </tr>\n",
       "    <tr>\n",
       "      <th>753623</th>\n",
       "      <td>-73.977699</td>\n",
       "      <td>40.748699</td>\n",
       "      <td>-73.861633</td>\n",
       "      <td>40.768219</td>\n",
       "    </tr>\n",
       "    <tr>\n",
       "      <th>1429325</th>\n",
       "      <td>-73.993401</td>\n",
       "      <td>40.762383</td>\n",
       "      <td>-73.980843</td>\n",
       "      <td>40.760277</td>\n",
       "    </tr>\n",
       "    <tr>\n",
       "      <th>...</th>\n",
       "      <td>...</td>\n",
       "      <td>...</td>\n",
       "      <td>...</td>\n",
       "      <td>...</td>\n",
       "    </tr>\n",
       "    <tr>\n",
       "      <th>259178</th>\n",
       "      <td>-73.955032</td>\n",
       "      <td>40.777328</td>\n",
       "      <td>-74.006203</td>\n",
       "      <td>40.749424</td>\n",
       "    </tr>\n",
       "    <tr>\n",
       "      <th>1414414</th>\n",
       "      <td>-73.973618</td>\n",
       "      <td>40.763920</td>\n",
       "      <td>-73.983849</td>\n",
       "      <td>40.749874</td>\n",
       "    </tr>\n",
       "    <tr>\n",
       "      <th>131932</th>\n",
       "      <td>-74.006195</td>\n",
       "      <td>40.734283</td>\n",
       "      <td>-73.949608</td>\n",
       "      <td>40.785282</td>\n",
       "    </tr>\n",
       "    <tr>\n",
       "      <th>671155</th>\n",
       "      <td>-73.962341</td>\n",
       "      <td>40.767323</td>\n",
       "      <td>-73.969757</td>\n",
       "      <td>40.768669</td>\n",
       "    </tr>\n",
       "    <tr>\n",
       "      <th>121958</th>\n",
       "      <td>-73.874649</td>\n",
       "      <td>40.774071</td>\n",
       "      <td>-74.004242</td>\n",
       "      <td>40.746899</td>\n",
       "    </tr>\n",
       "  </tbody>\n",
       "</table>\n",
       "<p>364661 rows × 4 columns</p>\n",
       "</div>"
      ],
      "text/plain": [
       "         pickup_longitude  pickup_latitude  dropoff_longitude  \\\n",
       "622538         -73.987762        40.732353         -73.981674   \n",
       "198550         -73.969460        40.757278         -73.959099   \n",
       "631248         -73.983398        40.749378         -73.987289   \n",
       "753623         -73.977699        40.748699         -73.861633   \n",
       "1429325        -73.993401        40.762383         -73.980843   \n",
       "...                   ...              ...                ...   \n",
       "259178         -73.955032        40.777328         -74.006203   \n",
       "1414414        -73.973618        40.763920         -73.983849   \n",
       "131932         -74.006195        40.734283         -73.949608   \n",
       "671155         -73.962341        40.767323         -73.969757   \n",
       "121958         -73.874649        40.774071         -74.004242   \n",
       "\n",
       "         dropoff_latitude  \n",
       "622538          40.690212  \n",
       "198550          40.769081  \n",
       "631248          40.759529  \n",
       "753623          40.768219  \n",
       "1429325         40.760277  \n",
       "...                   ...  \n",
       "259178          40.749424  \n",
       "1414414         40.749874  \n",
       "131932          40.785282  \n",
       "671155          40.768669  \n",
       "121958          40.746899  \n",
       "\n",
       "[364661 rows x 4 columns]"
      ]
     },
     "execution_count": 7,
     "metadata": {},
     "output_type": "execute_result"
    }
   ],
   "source": [
    "df_noise[coord_cols]"
   ]
  },
  {
   "cell_type": "code",
   "execution_count": 8,
   "metadata": {},
   "outputs": [],
   "source": [
    "noise_scale = 1\n",
    "\n",
    "for col in coord_cols:\n",
    "    std = df_noise[col].std()\n",
    "    df_noise[col] += noise_scale * std * np.random.normal(0, 1, len(df_noise))"
   ]
  },
  {
   "cell_type": "code",
   "execution_count": 9,
   "metadata": {},
   "outputs": [
    {
     "data": {
      "text/html": [
       "<div>\n",
       "<style scoped>\n",
       "    .dataframe tbody tr th:only-of-type {\n",
       "        vertical-align: middle;\n",
       "    }\n",
       "\n",
       "    .dataframe tbody tr th {\n",
       "        vertical-align: top;\n",
       "    }\n",
       "\n",
       "    .dataframe thead th {\n",
       "        text-align: right;\n",
       "    }\n",
       "</style>\n",
       "<table border=\"1\" class=\"dataframe\">\n",
       "  <thead>\n",
       "    <tr style=\"text-align: right;\">\n",
       "      <th></th>\n",
       "      <th>pickup_longitude</th>\n",
       "      <th>pickup_latitude</th>\n",
       "      <th>dropoff_longitude</th>\n",
       "      <th>dropoff_latitude</th>\n",
       "    </tr>\n",
       "  </thead>\n",
       "  <tbody>\n",
       "    <tr>\n",
       "      <th>622538</th>\n",
       "      <td>-73.927175</td>\n",
       "      <td>40.749647</td>\n",
       "      <td>-73.930878</td>\n",
       "      <td>40.662804</td>\n",
       "    </tr>\n",
       "    <tr>\n",
       "      <th>198550</th>\n",
       "      <td>-74.087609</td>\n",
       "      <td>40.728989</td>\n",
       "      <td>-73.856518</td>\n",
       "      <td>40.768779</td>\n",
       "    </tr>\n",
       "    <tr>\n",
       "      <th>631248</th>\n",
       "      <td>-74.030694</td>\n",
       "      <td>40.798671</td>\n",
       "      <td>-74.150025</td>\n",
       "      <td>40.709730</td>\n",
       "    </tr>\n",
       "    <tr>\n",
       "      <th>753623</th>\n",
       "      <td>-74.071769</td>\n",
       "      <td>40.728885</td>\n",
       "      <td>-73.860678</td>\n",
       "      <td>40.772276</td>\n",
       "    </tr>\n",
       "    <tr>\n",
       "      <th>1429325</th>\n",
       "      <td>-74.024237</td>\n",
       "      <td>40.789404</td>\n",
       "      <td>-73.925647</td>\n",
       "      <td>40.748661</td>\n",
       "    </tr>\n",
       "    <tr>\n",
       "      <th>...</th>\n",
       "      <td>...</td>\n",
       "      <td>...</td>\n",
       "      <td>...</td>\n",
       "      <td>...</td>\n",
       "    </tr>\n",
       "    <tr>\n",
       "      <th>259178</th>\n",
       "      <td>-73.949086</td>\n",
       "      <td>40.733806</td>\n",
       "      <td>-73.885819</td>\n",
       "      <td>40.763626</td>\n",
       "    </tr>\n",
       "    <tr>\n",
       "      <th>1414414</th>\n",
       "      <td>-74.057195</td>\n",
       "      <td>40.757560</td>\n",
       "      <td>-73.974243</td>\n",
       "      <td>40.726597</td>\n",
       "    </tr>\n",
       "    <tr>\n",
       "      <th>131932</th>\n",
       "      <td>-73.736061</td>\n",
       "      <td>40.742237</td>\n",
       "      <td>-73.950497</td>\n",
       "      <td>40.787885</td>\n",
       "    </tr>\n",
       "    <tr>\n",
       "      <th>671155</th>\n",
       "      <td>-73.865736</td>\n",
       "      <td>40.703123</td>\n",
       "      <td>-74.123399</td>\n",
       "      <td>40.765768</td>\n",
       "    </tr>\n",
       "    <tr>\n",
       "      <th>121958</th>\n",
       "      <td>-73.841016</td>\n",
       "      <td>40.803182</td>\n",
       "      <td>-74.057347</td>\n",
       "      <td>40.662285</td>\n",
       "    </tr>\n",
       "  </tbody>\n",
       "</table>\n",
       "<p>364661 rows × 4 columns</p>\n",
       "</div>"
      ],
      "text/plain": [
       "         pickup_longitude  pickup_latitude  dropoff_longitude  \\\n",
       "622538         -73.927175        40.749647         -73.930878   \n",
       "198550         -74.087609        40.728989         -73.856518   \n",
       "631248         -74.030694        40.798671         -74.150025   \n",
       "753623         -74.071769        40.728885         -73.860678   \n",
       "1429325        -74.024237        40.789404         -73.925647   \n",
       "...                   ...              ...                ...   \n",
       "259178         -73.949086        40.733806         -73.885819   \n",
       "1414414        -74.057195        40.757560         -73.974243   \n",
       "131932         -73.736061        40.742237         -73.950497   \n",
       "671155         -73.865736        40.703123         -74.123399   \n",
       "121958         -73.841016        40.803182         -74.057347   \n",
       "\n",
       "         dropoff_latitude  \n",
       "622538          40.662804  \n",
       "198550          40.768779  \n",
       "631248          40.709730  \n",
       "753623          40.772276  \n",
       "1429325         40.748661  \n",
       "...                   ...  \n",
       "259178          40.763626  \n",
       "1414414         40.726597  \n",
       "131932          40.787885  \n",
       "671155          40.765768  \n",
       "121958          40.662285  \n",
       "\n",
       "[364661 rows x 4 columns]"
      ]
     },
     "execution_count": 9,
     "metadata": {},
     "output_type": "execute_result"
    }
   ],
   "source": [
    "df_noise[coord_cols]"
   ]
  },
  {
   "cell_type": "markdown",
   "metadata": {},
   "source": [
    "## Сохранение"
   ]
  },
  {
   "cell_type": "code",
   "execution_count": 10,
   "metadata": {},
   "outputs": [],
   "source": [
    "df1.to_csv('data/processed/df1.csv', index=False)\n",
    "df2.to_csv('data/processed/df2.csv', index=False)\n",
    "df3.to_csv('data/processed/df3.csv', index=False)\n",
    "df_noise.to_csv('data/processed/df_noise.csv', index=False)"
   ]
  },
  {
   "cell_type": "markdown",
   "metadata": {},
   "source": [
    "# Предобработка"
   ]
  },
  {
   "cell_type": "code",
   "execution_count": 11,
   "metadata": {},
   "outputs": [
    {
     "data": {
      "text/html": [
       "<div>\n",
       "<style scoped>\n",
       "    .dataframe tbody tr th:only-of-type {\n",
       "        vertical-align: middle;\n",
       "    }\n",
       "\n",
       "    .dataframe tbody tr th {\n",
       "        vertical-align: top;\n",
       "    }\n",
       "\n",
       "    .dataframe thead th {\n",
       "        text-align: right;\n",
       "    }\n",
       "</style>\n",
       "<table border=\"1\" class=\"dataframe\">\n",
       "  <thead>\n",
       "    <tr style=\"text-align: right;\">\n",
       "      <th></th>\n",
       "      <th>pickup_longitude</th>\n",
       "      <th>pickup_latitude</th>\n",
       "      <th>dropoff_longitude</th>\n",
       "      <th>dropoff_latitude</th>\n",
       "    </tr>\n",
       "  </thead>\n",
       "  <tbody>\n",
       "    <tr>\n",
       "      <th>0</th>\n",
       "      <td>0.360615</td>\n",
       "      <td>0.692987</td>\n",
       "      <td>0.419353</td>\n",
       "      <td>0.701337</td>\n",
       "    </tr>\n",
       "    <tr>\n",
       "      <th>1</th>\n",
       "      <td>0.361186</td>\n",
       "      <td>0.696616</td>\n",
       "      <td>0.418542</td>\n",
       "      <td>0.700005</td>\n",
       "    </tr>\n",
       "    <tr>\n",
       "      <th>2</th>\n",
       "      <td>0.360343</td>\n",
       "      <td>0.694066</td>\n",
       "      <td>0.419853</td>\n",
       "      <td>0.699858</td>\n",
       "    </tr>\n",
       "    <tr>\n",
       "      <th>3</th>\n",
       "      <td>0.360243</td>\n",
       "      <td>0.692373</td>\n",
       "      <td>0.418568</td>\n",
       "      <td>0.699887</td>\n",
       "    </tr>\n",
       "    <tr>\n",
       "      <th>4</th>\n",
       "      <td>0.376118</td>\n",
       "      <td>0.681586</td>\n",
       "      <td>0.418864</td>\n",
       "      <td>0.701181</td>\n",
       "    </tr>\n",
       "    <tr>\n",
       "      <th>...</th>\n",
       "      <td>...</td>\n",
       "      <td>...</td>\n",
       "      <td>...</td>\n",
       "      <td>...</td>\n",
       "    </tr>\n",
       "    <tr>\n",
       "      <th>364656</th>\n",
       "      <td>0.360817</td>\n",
       "      <td>0.692325</td>\n",
       "      <td>0.419434</td>\n",
       "      <td>0.698278</td>\n",
       "    </tr>\n",
       "    <tr>\n",
       "      <th>364657</th>\n",
       "      <td>0.362999</td>\n",
       "      <td>0.698554</td>\n",
       "      <td>0.418311</td>\n",
       "      <td>0.697258</td>\n",
       "    </tr>\n",
       "    <tr>\n",
       "      <th>364658</th>\n",
       "      <td>0.359947</td>\n",
       "      <td>0.696273</td>\n",
       "      <td>0.419311</td>\n",
       "      <td>0.701226</td>\n",
       "    </tr>\n",
       "    <tr>\n",
       "      <th>364659</th>\n",
       "      <td>0.360645</td>\n",
       "      <td>0.695748</td>\n",
       "      <td>0.419176</td>\n",
       "      <td>0.702723</td>\n",
       "    </tr>\n",
       "    <tr>\n",
       "      <th>364660</th>\n",
       "      <td>0.361005</td>\n",
       "      <td>0.696476</td>\n",
       "      <td>0.427159</td>\n",
       "      <td>0.703067</td>\n",
       "    </tr>\n",
       "  </tbody>\n",
       "</table>\n",
       "<p>364661 rows × 4 columns</p>\n",
       "</div>"
      ],
      "text/plain": [
       "        pickup_longitude  pickup_latitude  dropoff_longitude  dropoff_latitude\n",
       "0               0.360615         0.692987           0.419353          0.701337\n",
       "1               0.361186         0.696616           0.418542          0.700005\n",
       "2               0.360343         0.694066           0.419853          0.699858\n",
       "3               0.360243         0.692373           0.418568          0.699887\n",
       "4               0.376118         0.681586           0.418864          0.701181\n",
       "...                  ...              ...                ...               ...\n",
       "364656          0.360817         0.692325           0.419434          0.698278\n",
       "364657          0.362999         0.698554           0.418311          0.697258\n",
       "364658          0.359947         0.696273           0.419311          0.701226\n",
       "364659          0.360645         0.695748           0.419176          0.702723\n",
       "364660          0.361005         0.696476           0.427159          0.703067\n",
       "\n",
       "[364661 rows x 4 columns]"
      ]
     },
     "execution_count": 11,
     "metadata": {},
     "output_type": "execute_result"
    }
   ],
   "source": [
    "coord_pipe = Pipeline([('norm', MinMaxScaler())])\n",
    "\n",
    "X, y = df_to_X_y(df1)\n",
    "df1_transformed = pd.DataFrame(coord_pipe.fit_transform(X, y))\n",
    "df1_transformed.columns = coord_pipe.get_feature_names_out()\n",
    "df1_transformed"
   ]
  },
  {
   "cell_type": "markdown",
   "metadata": {},
   "source": [
    "# Тренировка модели линейной регрессии"
   ]
  },
  {
   "cell_type": "code",
   "execution_count": 12,
   "metadata": {},
   "outputs": [
    {
     "data": {
      "text/plain": [
       "['models/linear_pipe.joblib']"
      ]
     },
     "execution_count": 12,
     "metadata": {},
     "output_type": "execute_result"
    }
   ],
   "source": [
    "linear_pipe = Pipeline([\n",
    "    ('preprocessors', coord_pipe),\n",
    "    ('model', LinearRegression())\n",
    "])\n",
    "X, y = df_to_X_y(df1)\n",
    "linear_pipe.fit(X, y)\n",
    "dump(linear_pipe, 'models/linear_pipe.joblib')"
   ]
  },
  {
   "cell_type": "code",
   "execution_count": 13,
   "metadata": {},
   "outputs": [
    {
     "data": {
      "text/plain": [
       "0.8497831001596202"
      ]
     },
     "execution_count": 13,
     "metadata": {},
     "output_type": "execute_result"
    }
   ],
   "source": [
    "score_predictions(df2, linear_pipe)"
   ]
  },
  {
   "cell_type": "code",
   "execution_count": 14,
   "metadata": {},
   "outputs": [
    {
     "data": {
      "text/plain": [
       "0.8544601681743956"
      ]
     },
     "execution_count": 14,
     "metadata": {},
     "output_type": "execute_result"
    }
   ],
   "source": [
    "score_predictions(df3, linear_pipe)"
   ]
  },
  {
   "cell_type": "code",
   "execution_count": 15,
   "metadata": {},
   "outputs": [
    {
     "data": {
      "text/plain": [
       "1.0222885997616282"
      ]
     },
     "execution_count": 15,
     "metadata": {},
     "output_type": "execute_result"
    }
   ],
   "source": [
    "score_predictions(df_noise, linear_pipe)"
   ]
  },
  {
   "cell_type": "markdown",
   "metadata": {},
   "source": [
    "# Тестирование модели"
   ]
  },
  {
   "cell_type": "code",
   "execution_count": 16,
   "metadata": {},
   "outputs": [
    {
     "name": "stdout",
     "output_type": "stream",
     "text": [
      "\u001b[1m============================= test session starts ==============================\u001b[0m\n",
      "platform linux -- Python 3.9.19, pytest-8.2.0, pluggy-1.5.0\n",
      "rootdir: /home/nomad/projects/urfu-mlops/lab5\n",
      "plugins: hydra-core-1.3.2\n",
      "collected 3 items                                                              \u001b[0m\u001b[1m\n",
      "\n",
      "test_model.py \u001b[32m.\u001b[0m\u001b[32m.\u001b[0m\u001b[31mF\u001b[0m\u001b[31m                                                        [100%]\u001b[0m\n",
      "\n",
      "=================================== FAILURES ===================================\n",
      "\u001b[31m\u001b[1m_____________________________ test_mse_on_df_noise _____________________________\u001b[0m\n",
      "\n",
      "init_pipeline = None\n",
      "\n",
      "    \u001b[0m\u001b[94mdef\u001b[39;49;00m \u001b[92mtest_mse_on_df_noise\u001b[39;49;00m(init_pipeline):\u001b[90m\u001b[39;49;00m\n",
      "        df = pd.read_csv(\u001b[33m'\u001b[39;49;00m\u001b[33mdata/processed/df_noise.csv\u001b[39;49;00m\u001b[33m'\u001b[39;49;00m)\u001b[90m\u001b[39;49;00m\n",
      ">       \u001b[94massert\u001b[39;49;00m score_predictions(df, linear_pipe) < THRESHOLD_RMSLE\u001b[90m\u001b[39;49;00m\n",
      "\u001b[1m\u001b[31mE       AssertionError: assert 1.0222885997616293 < 0.9\u001b[0m\n",
      "\u001b[1m\u001b[31mE        +  where 1.0222885997616293 = score_predictions(               id  vendor_id  ... store_and_fwd_flag trip_duration\\n0       id1419212          2  ...                  ...         N           389\\n364660  id0357025          2  ...                  N          1570\\n\\n[364661 rows x 11 columns], Pipeline(steps=[('preprocessors', Pipeline(steps=[('norm', MinMaxScaler())])),\\n                ('model', LinearRegression())]))\u001b[0m\n",
      "\n",
      "\u001b[1m\u001b[31mtest_model.py\u001b[0m:46: AssertionError\n",
      "\u001b[36m\u001b[1m=========================== short test summary info ============================\u001b[0m\n",
      "\u001b[31mFAILED\u001b[0m test_model.py::\u001b[1mtest_mse_on_df_noise\u001b[0m - AssertionError: assert 1.0222885997616293 < 0.9\n",
      "\u001b[31m========================= \u001b[31m\u001b[1m1 failed\u001b[0m, \u001b[32m2 passed\u001b[0m\u001b[31m in 3.42s\u001b[0m\u001b[31m ==========================\u001b[0m\n"
     ]
    }
   ],
   "source": [
    "!pytest"
   ]
  },
  {
   "cell_type": "markdown",
   "metadata": {},
   "source": [
    "На зашумленном датасете проблема обнаружена."
   ]
  }
 ],
 "metadata": {
  "language_info": {
   "name": "python"
  }
 },
 "nbformat": 4,
 "nbformat_minor": 2
}
